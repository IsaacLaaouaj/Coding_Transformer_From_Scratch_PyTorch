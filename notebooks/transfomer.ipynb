{
 "cells": [
  {
   "cell_type": "markdown",
   "id": "925c25a2",
   "metadata": {},
   "source": [
    "# Coding a tranformer from Scrach"
   ]
  }
 ],
 "metadata": {
  "language_info": {
   "name": "python"
  }
 },
 "nbformat": 4,
 "nbformat_minor": 5
}
